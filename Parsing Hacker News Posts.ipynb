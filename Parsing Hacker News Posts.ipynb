{
 "cells": [
  {
   "cell_type": "markdown",
   "metadata": {},
   "source": [
    "# Parsing Hacker News Posts\n",
    "## The main goal of this projects is analyze the differents posts of the famous web *Hacker News* and find differences between ask posts and show posts.\n",
    "### Firstly, we will open the file where is registered all posts that have had at least one comment:"
   ]
  },
  {
   "cell_type": "code",
   "execution_count": 22,
   "metadata": {},
   "outputs": [
    {
     "name": "stdout",
     "output_type": "stream",
     "text": [
      "['id', 'title', 'url', 'num_points', 'num_comments', 'author', 'created_at']\n",
      "[['12579008', 'You have two days to comment if you want stem cells to be classified as your own', 'http://www.regulations.gov/document?D=FDA-2015-D-3719-0018', '1', '0', 'altstar', '9/26/2016 3:26'], ['12579005', 'SQLAR  the SQLite Archiver', 'https://www.sqlite.org/sqlar/doc/trunk/README.md', '1', '0', 'blacksqr', '9/26/2016 3:24'], ['12578997', 'What if we just printed a flatscreen television on the side of our boxes?', 'https://medium.com/vanmoof/our-secrets-out-f21c1f03fdc8#.ietxmez43', '1', '0', 'pavel_lishin', '9/26/2016 3:19'], ['12578989', 'algorithmic music', 'http://cacm.acm.org/magazines/2011/7/109891-algorithmic-composition/fulltext', '1', '0', 'poindontcare', '9/26/2016 3:16'], ['12578979', 'How the Data Vault Enables the Next-Gen Data Warehouse and Data Lake', 'https://www.talend.com/blog/2016/05/12/talend-and-Â\\x93the-data-vaultÂ\\x94', '1', '0', 'markgainor1', '9/26/2016 3:14']]\n",
      "['12578430', 'Wireless signals can detect your feelings with new device', 'http://phys.org/news/2016-09-wireless-device.html', '1', '0', 'upen', '9/26/2016 0:57']\n",
      "['12572749', 'Pieter Hintjens  Building Open Source Communities  DomCode 2015', 'https://www.youtube.com/watch?v=uzxcILudFWM', '2', '0', 'franzb', '9/24/2016 21:32']\n"
     ]
    }
   ],
   "source": [
    "from csv import reader\n",
    "\n",
    "open_file = open('D:/PROYECTOS_PYTHON/HN_posts_year_to_Sep_26_2016.csv', encoding=\"utf8\")\n",
    "read_file = reader(open_file)\n",
    "hn = list(read_file)\n",
    "hn_header = hn[0]\n",
    "hn = hn[1:]\n",
    "\n",
    "print(hn_header)\n",
    "print(hn[:5])\n",
    "print(hn[46])\n",
    "print(hn[555])"
   ]
  },
  {
   "cell_type": "markdown",
   "metadata": {},
   "source": [
    "#### The next step will be to separate in three different lists the ask posts from the show posts and from other posts:"
   ]
  },
  {
   "cell_type": "code",
   "execution_count": 11,
   "metadata": {},
   "outputs": [
    {
     "name": "stdout",
     "output_type": "stream",
     "text": [
      "Number of ask posts:  9139\n",
      "Number of show posts:  10158\n",
      "Number of other posts:  273822\n"
     ]
    }
   ],
   "source": [
    "ask_posts = []\n",
    "show_posts = []\n",
    "other_posts = []\n",
    "\n",
    "for row in hn:\n",
    "    title = row[1]\n",
    "    title = title.lower()\n",
    "    if title.startswith('ask hn'):\n",
    "        ask_posts.append(row)\n",
    "    elif title.startswith('show hn'):\n",
    "        show_posts.append(row)\n",
    "    else:\n",
    "        other_posts.append(row)\n",
    "        \n",
    "print('Number of ask posts: ', len(ask_posts))\n",
    "print('Number of show posts: ', len(show_posts))\n",
    "print('Number of other posts: ', len(other_posts))"
   ]
  },
  {
   "cell_type": "markdown",
   "metadata": {},
   "source": [
    "### Now, we will get the number of comments for each type of post:"
   ]
  },
  {
   "cell_type": "code",
   "execution_count": 18,
   "metadata": {},
   "outputs": [
    {
     "name": "stdout",
     "output_type": "stream",
     "text": [
      "Total of comments in ask posts:  94986\n",
      "Average of comments in ask posts:  10.39\n",
      "\n",
      "\n",
      "Total of comments in show posts:  49633\n",
      "Average of comments in show posts:  4.89\n"
     ]
    }
   ],
   "source": [
    "total_ask_comments = 0\n",
    "for row in ask_posts:\n",
    "    comments = int(row[4])\n",
    "    total_ask_comments += comments\n",
    "\n",
    "avg_ask_comments = total_ask_comments / len(ask_posts)\n",
    "\n",
    "total_show_comments = 0\n",
    "for row in show_posts:\n",
    "    comments = int(row[4])\n",
    "    total_show_comments += comments\n",
    "\n",
    "avg_ask_comments = total_ask_comments / len(ask_posts)\n",
    "avg_show_comments = total_show_comments / len(show_posts)\n",
    "\n",
    "print('Total of comments in ask posts: ', total_ask_comments)\n",
    "print('Average of comments in ask posts: ',round(avg_ask_comments, 2))\n",
    "print('\\n')\n",
    "print('Total of comments in show posts: ', total_show_comments)\n",
    "print('Average of comments in show posts: ',round(avg_show_comments, 2))"
   ]
  },
  {
   "cell_type": "markdown",
   "metadata": {},
   "source": [
    "### We can observe that ask posts has more average of comments (10.39) than the show posts (4.89).  There are a similar number of posts of both types, and also we see that there are more than twice as many comments in ask posts."
   ]
  },
  {
   "cell_type": "markdown",
   "metadata": {},
   "source": [
    "#### Since ask posts are more likely to receive comments, we'll focus our remaining analysis just on these posts."
   ]
  },
  {
   "cell_type": "markdown",
   "metadata": {},
   "source": [
    "### Next, we'll determine if ask posts created at a certain time are more likely to attract comments."
   ]
  },
  {
   "cell_type": "code",
   "execution_count": 52,
   "metadata": {},
   "outputs": [
    {
     "name": "stdout",
     "output_type": "stream",
     "text": [
      "Number of posts by hour: \n"
     ]
    },
    {
     "data": {
      "text/plain": [
       "{'02': 269,\n",
       " '01': 282,\n",
       " '22': 383,\n",
       " '21': 518,\n",
       " '19': 552,\n",
       " '17': 587,\n",
       " '15': 646,\n",
       " '14': 513,\n",
       " '13': 444,\n",
       " '11': 312,\n",
       " '10': 282,\n",
       " '09': 222,\n",
       " '07': 226,\n",
       " '03': 271,\n",
       " '23': 343,\n",
       " '20': 510,\n",
       " '16': 579,\n",
       " '08': 257,\n",
       " '00': 301,\n",
       " '18': 614,\n",
       " '12': 342,\n",
       " '04': 243,\n",
       " '06': 234,\n",
       " '05': 209}"
      ]
     },
     "metadata": {},
     "output_type": "display_data"
    },
    {
     "name": "stdout",
     "output_type": "stream",
     "text": [
      "Number of comments by hour: \n"
     ]
    },
    {
     "data": {
      "text/plain": [
       "{'02': 2996,\n",
       " '01': 2089,\n",
       " '22': 3372,\n",
       " '21': 4500,\n",
       " '19': 3954,\n",
       " '17': 5547,\n",
       " '15': 18525,\n",
       " '14': 4972,\n",
       " '13': 7245,\n",
       " '11': 2797,\n",
       " '10': 3013,\n",
       " '09': 1477,\n",
       " '07': 1585,\n",
       " '03': 2154,\n",
       " '23': 2297,\n",
       " '20': 4462,\n",
       " '16': 4466,\n",
       " '08': 2362,\n",
       " '00': 2277,\n",
       " '18': 4877,\n",
       " '12': 4234,\n",
       " '04': 2360,\n",
       " '06': 1587,\n",
       " '05': 1838}"
      ]
     },
     "metadata": {},
     "output_type": "display_data"
    }
   ],
   "source": [
    "import datetime as dt\n",
    "\n",
    "result_list = []\n",
    "for row in ask_posts:\n",
    "    created_at = row[6]\n",
    "    comments = int(row[4])\n",
    "    result_list.append([created_at, comments])\n",
    "    \n",
    "counts_by_hour = {}\n",
    "comments_by_hour = {}\n",
    "\n",
    "for row in result_list:\n",
    "    dateformat = '%m/%d/%Y %H:%M'\n",
    "    hour = row[0]\n",
    "    num_comments = int(row[1])\n",
    "    h = dt.datetime.strptime(hour, dateformat)\n",
    "    h_time = h.strftime('%H')\n",
    "    \n",
    "    if h_time not in counts_by_hour:\n",
    "        counts_by_hour[h_time] = 1\n",
    "        comments_by_hour[h_time] = num_comments\n",
    "    else:\n",
    "        counts_by_hour[h_time] += 1\n",
    "        comments_by_hour[h_time] += num_comments\n",
    "\n",
    "print('Number of posts by hour: ')\n",
    "display(counts_by_hour)\n",
    "print('Number of comments by hour: ')\n",
    "display(comments_by_hour)"
   ]
  },
  {
   "cell_type": "code",
   "execution_count": 53,
   "metadata": {},
   "outputs": [
    {
     "name": "stdout",
     "output_type": "stream",
     "text": [
      "Average of comments by post (by hour): \n"
     ]
    },
    {
     "data": {
      "text/plain": [
       "[['02', 11.14],\n",
       " ['01', 7.41],\n",
       " ['22', 8.8],\n",
       " ['21', 8.69],\n",
       " ['19', 7.16],\n",
       " ['17', 9.45],\n",
       " ['15', 28.68],\n",
       " ['14', 9.69],\n",
       " ['13', 16.32],\n",
       " ['11', 8.96],\n",
       " ['10', 10.68],\n",
       " ['09', 6.65],\n",
       " ['07', 7.01],\n",
       " ['03', 7.95],\n",
       " ['23', 6.7],\n",
       " ['20', 8.75],\n",
       " ['16', 7.71],\n",
       " ['08', 9.19],\n",
       " ['00', 7.56],\n",
       " ['18', 7.94],\n",
       " ['12', 12.38],\n",
       " ['04', 9.71],\n",
       " ['06', 6.78],\n",
       " ['05', 8.79]]"
      ]
     },
     "metadata": {},
     "output_type": "display_data"
    }
   ],
   "source": [
    "avg_by_hour = []\n",
    "for hour_time in counts_by_hour:\n",
    "    avg_by_hour.append([hour_time, round(comments_by_hour[hour_time] / counts_by_hour[hour_time], 2)])\n",
    "\n",
    "print('Average of comments by post (by hour): ')\n",
    "display(avg_by_hour)"
   ]
  },
  {
   "cell_type": "markdown",
   "metadata": {},
   "source": [
    "### We display the information in order to read it clearer:"
   ]
  },
  {
   "cell_type": "code",
   "execution_count": 73,
   "metadata": {
    "scrolled": false
   },
   "outputs": [
    {
     "name": "stdout",
     "output_type": "stream",
     "text": [
      "[[11.14, '02'], [7.41, '01'], [8.8, '22'], [8.69, '21'], [7.16, '19'], [9.45, '17'], [28.68, '15'], [9.69, '14'], [16.32, '13'], [8.96, '11'], [10.68, '10'], [6.65, '09'], [7.01, '07'], [7.95, '03'], [6.7, '23'], [8.75, '20'], [7.71, '16'], [9.19, '08'], [7.56, '00'], [7.94, '18'], [12.38, '12'], [9.71, '04'], [6.78, '06'], [8.79, '05']]\n",
      "\n",
      "\n",
      "Top 5 Hours for Ask Posts Comments: \n",
      "\n",
      "\n",
      "15:00: 28.68 average comments per post\n",
      "13:00: 16.32 average comments per post\n",
      "12:00: 12.38 average comments per post\n",
      "02:00: 11.14 average comments per post\n",
      "10:00: 10.68 average comments per post\n"
     ]
    }
   ],
   "source": [
    "swap_avg_by_hour = []\n",
    "\n",
    "for row in avg_by_hour:\n",
    "    first = row[1]\n",
    "    second = row[0]\n",
    "    swap_avg_by_hour.append([first, second])\n",
    "\n",
    "\n",
    "print(swap_avg_by_hour)\n",
    "print('\\n')\n",
    "\n",
    "\n",
    "sorted_swap = sorted(swap_avg_by_hour, reverse=True)\n",
    "\n",
    "print('Top 5 Hours for Ask Posts Comments: ')\n",
    "print('\\n')\n",
    "\n",
    "for row in sorted_swap [:5]:\n",
    "    timeformat = \"%H\"\n",
    "    hour = row[1]\n",
    "    avg = row[0]\n",
    "    hour_oo = dt.datetime.strptime(hour, timeformat)\n",
    "    hour_string = hour_oo.strftime(\"%H:00\")\n",
    "    print('{h}: {a:.2f} average comments per post'.format(h=hour_string, a=avg))"
   ]
  },
  {
   "cell_type": "markdown",
   "metadata": {},
   "source": [
    "# Conclusions:\n",
    "\n",
    "### Our results show that creating a post at 15:00 - 16:00 has the highest chance of receiving comments. In general, the best hours for posting are the midday hours (15h, 13h, 12h...), probably because the web users are more available to answer these posts in the evening. But, we don't really know. If we wanted to know it we should analyze how many time the posts needs to be answered. Other explanation is that while occuring this hours both American and Europeans users are actives and probably they are the most of the users.\n",
    "### The second time period most popular to a post be commented is the morning and early morning (02h, 10h...) (maybe because other good time period to answer is the morning)."
   ]
  }
 ],
 "metadata": {
  "kernelspec": {
   "display_name": "Python 3",
   "language": "python",
   "name": "python3"
  },
  "language_info": {
   "codemirror_mode": {
    "name": "ipython",
    "version": 3
   },
   "file_extension": ".py",
   "mimetype": "text/x-python",
   "name": "python",
   "nbconvert_exporter": "python",
   "pygments_lexer": "ipython3",
   "version": "3.8.5"
  }
 },
 "nbformat": 4,
 "nbformat_minor": 4
}
